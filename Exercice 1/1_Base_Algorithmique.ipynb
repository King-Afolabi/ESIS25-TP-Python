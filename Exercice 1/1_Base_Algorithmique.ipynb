{
 "cells": [
  {
   "cell_type": "markdown",
   "id": "85b88d71",
   "metadata": {},
   "source": [
    "# Devoir Python\n",
    "\n",
    "## 1_Base Algorithmique Python"
   ]
  },
  {
   "cell_type": "markdown",
   "id": "fdcdfc07",
   "metadata": {},
   "source": [
    "### Exercice 1 : Bonjour le Monde\n",
    "\n",
    "\n",
    "#### • Objectif : Apprendre à afficher du texte.\n",
    "#### • Tâche : Ecrire un programme qui affiche \"Bonjour le Monde\".\n",
    "#### • Compétences : Utilisation de la fonction print."
   ]
  },
  {
   "cell_type": "code",
   "execution_count": 3,
   "id": "9e7cdc1b",
   "metadata": {},
   "outputs": [
    {
     "name": "stdout",
     "output_type": "stream",
     "text": [
      "Bonjour le Monde\n",
      "Comment est-ce que vous allez ?\n"
     ]
    }
   ],
   "source": [
    "print(\"Bonjour le Monde\")\n",
    "print(\"Comment est-ce que vous allez ?\")"
   ]
  },
  {
   "cell_type": "markdown",
   "id": "f3eda0cb",
   "metadata": {},
   "source": []
  },
  {
   "cell_type": "markdown",
   "id": "03d07829",
   "metadata": {},
   "source": [
    "### Exercice 2 : Calcul de l'Âge\n",
    "\n",
    "\n",
    "#### • Objectif : Travailler avec les entrées utilisateur.\n",
    "#### • Tâche : Écrire un programme qui demande à l'utilisateur son année de naissance et calcule son âge actuel.\n",
    "#### • Compétences : Utilisation de la fonction input, conversion de types, opérations arithmétiques."
   ]
  },
  {
   "cell_type": "code",
   "execution_count": 28,
   "id": "20754e0b",
   "metadata": {},
   "outputs": [
    {
     "name": "stdout",
     "output_type": "stream",
     "text": [
      "Bonjour et bienvenue \n",
      "Donnez moi votre date de naissance et je vous dis votre âge en 2024 !!!\n",
      "\n",
      "Saisir ton année de naissance : 0\n",
      "\n",
      "Vous n'existez plus ou pas. Désolé !\n"
     ]
    }
   ],
   "source": [
    "print(\"Bonjour et bienvenue \\nDonnez moi votre date de naissance et je vous dis votre âge en 2024 !!!\\n\")\n",
    "\n",
    "annee_brut = input(\"Saisir ton année de naissance : \")\n",
    "\n",
    "if annee_brut.isdecimal():\n",
    "    if int(annee_brut) > 2024 or int(annee_brut) < 1850:\n",
    "        print(\"\\nVous n'existez plus ou pas. Désolé !\")\n",
    "    else:\n",
    "        annee_naissance = 2024 - int(annee_brut)\n",
    "        if annee_naissance > 1:\n",
    "            print(f\"\\nVous avez {annee_naissance} ans\")\n",
    "        else:\n",
    "            print(f\"\\nVous avez {annee_naissance} an\")\n",
    "else:\n",
    "    print(f\"\\nVotre saisie : '{annee_brut}' n'est pas un nombre entier\")"
   ]
  },
  {
   "cell_type": "markdown",
   "id": "c78d9f78",
   "metadata": {},
   "source": []
  },
  {
   "cell_type": "markdown",
   "id": "ecdd6ea8",
   "metadata": {},
   "source": [
    "### Exercice 3 : Pair ou Impair\n",
    "\n",
    "\n",
    "#### • Objectif : Apprendre les conditions.\n",
    "#### • Tâche : Écrire un programme qui demande à l'utilisateur de saisir un nombre et affiche s'il est pair ou impair.\n",
    "#### • Compétences : Conditions if, opérateur modulo %.\n"
   ]
  },
  {
   "cell_type": "code",
   "execution_count": 38,
   "id": "d8ad136e",
   "metadata": {},
   "outputs": [
    {
     "name": "stdout",
     "output_type": "stream",
     "text": [
      "Bonjour et bienvenue \n",
      "Donnez moi votre nombre entier et je vous dis si il est pair ou impair !!!\n",
      "\n",
      "Saisir ton année de naissance : 0\n",
      "Le nombre 0 (zéro) est pair et impair\n"
     ]
    }
   ],
   "source": [
    "print(\"Bonjour et bienvenue \\nDonnez moi votre nombre entier et je vous dis si il est pair ou impair !!!\\n\")\n",
    "\n",
    "nbre = input(\"Saisir un nombre entier : \")\n",
    "\n",
    "if nbre.isdecimal():\n",
    "    if int(nbre) == 0:\n",
    "        print(f\"\\nLe nombre {nbre} (zéro) est pair\")\n",
    "        \n",
    "    elif int(nbre) % 2 == 0:\n",
    "        print(f\"\\nLe nombre {nbre} est pair\")\n",
    "        \n",
    "    else:\n",
    "        print(f\"\\nLe nombre {nbre} est impair\")\n",
    "else:\n",
    "    print(f\"\\nVotre saisie : '{nbre}' n'est pas un nombre entier\")"
   ]
  },
  {
   "cell_type": "markdown",
   "id": "b8f59310",
   "metadata": {},
   "source": []
  },
  {
   "cell_type": "markdown",
   "id": "4c09d8cc",
   "metadata": {},
   "source": [
    "### Exercice 4 : Somme des Nombres\n",
    "\n",
    "\n",
    "#### • Objectif : Travailler avec les boucles.\n",
    "#### • Tâche : Ecrire un programme qui demande à l'utilisateur de saisir un nombre nnn et calcule la somme des nombres de 1 à nnn.\n",
    "#### • Compétences : Boucles for, opérations arithmétiques.\n"
   ]
  },
  {
   "cell_type": "code",
   "execution_count": 48,
   "id": "310cd2f1",
   "metadata": {},
   "outputs": [
    {
     "name": "stdout",
     "output_type": "stream",
     "text": [
      "Bonjour et bienvenue \n",
      "Donnez moi votre nombre entier et je vous la sommes de 1 à ce nombre !!!\n",
      "\n",
      "Saisir ton année de naissance : 10\n",
      "La somme des nombres de 0 à 10 est : 55\n"
     ]
    }
   ],
   "source": [
    "print(\"Bonjour et bienvenue \\nDonnez moi votre nombre entier et je vous la sommes de 0 à ce nombre !!!\\n\")\n",
    "\n",
    "nbre = input(\"Saisir un nombre entier : \")\n",
    "somme = 0\n",
    "\n",
    "if nbre.isdecimal():\n",
    "    for i in range (int(nbre)+1):\n",
    "        somme +=i\n",
    "    print(f\"\\nLa somme des nombres de 0 à {nbre} est : {somme}\")\n",
    "        \n",
    "else:\n",
    "    print(f\"\\nVotre saisie : '{nbre}' n'est pas un nombre entier\")"
   ]
  },
  {
   "cell_type": "markdown",
   "id": "df84381f",
   "metadata": {},
   "source": []
  },
  {
   "cell_type": "markdown",
   "id": "d174743e",
   "metadata": {},
   "source": [
    "### Exercice 5 : Table de Multiplication\n",
    "\n",
    "\n",
    "#### • Objectif : Utiliser les boucles imbriquées.\n",
    "#### • Tâche : Écrire un programme qui affiche la table de multiplication de 1 à 10.\n",
    "#### • Compétences : Boucles imbriquées, formatage de sortie."
   ]
  },
  {
   "cell_type": "code",
   "execution_count": 52,
   "id": "25c9bcda",
   "metadata": {
    "collapsed": true
   },
   "outputs": [
    {
     "name": "stdout",
     "output_type": "stream",
     "text": [
      "Bonjour et bienvenue \n",
      "Donnez moi votre nombre entier et je vous donne la table de multiplicationde 1 à ce nombre !!!\n",
      "\n",
      "Saisir ton année de naissance : 10\n",
      "\n",
      "Table de 1 est : \n",
      "\n",
      "1 x 1 = 1\n",
      "\n",
      "1 x 2 = 2\n",
      "\n",
      "1 x 3 = 3\n",
      "\n",
      "1 x 4 = 4\n",
      "\n",
      "1 x 5 = 5\n",
      "\n",
      "1 x 6 = 6\n",
      "\n",
      "1 x 7 = 7\n",
      "\n",
      "1 x 8 = 8\n",
      "\n",
      "1 x 9 = 9\n",
      "\n",
      "1 x 10 = 10\n",
      "\n",
      "Table de 2 est : \n",
      "\n",
      "2 x 1 = 2\n",
      "\n",
      "2 x 2 = 4\n",
      "\n",
      "2 x 3 = 6\n",
      "\n",
      "2 x 4 = 8\n",
      "\n",
      "2 x 5 = 10\n",
      "\n",
      "2 x 6 = 12\n",
      "\n",
      "2 x 7 = 14\n",
      "\n",
      "2 x 8 = 16\n",
      "\n",
      "2 x 9 = 18\n",
      "\n",
      "2 x 10 = 20\n",
      "\n",
      "Table de 3 est : \n",
      "\n",
      "3 x 1 = 3\n",
      "\n",
      "3 x 2 = 6\n",
      "\n",
      "3 x 3 = 9\n",
      "\n",
      "3 x 4 = 12\n",
      "\n",
      "3 x 5 = 15\n",
      "\n",
      "3 x 6 = 18\n",
      "\n",
      "3 x 7 = 21\n",
      "\n",
      "3 x 8 = 24\n",
      "\n",
      "3 x 9 = 27\n",
      "\n",
      "3 x 10 = 30\n",
      "\n",
      "Table de 4 est : \n",
      "\n",
      "4 x 1 = 4\n",
      "\n",
      "4 x 2 = 8\n",
      "\n",
      "4 x 3 = 12\n",
      "\n",
      "4 x 4 = 16\n",
      "\n",
      "4 x 5 = 20\n",
      "\n",
      "4 x 6 = 24\n",
      "\n",
      "4 x 7 = 28\n",
      "\n",
      "4 x 8 = 32\n",
      "\n",
      "4 x 9 = 36\n",
      "\n",
      "4 x 10 = 40\n",
      "\n",
      "Table de 5 est : \n",
      "\n",
      "5 x 1 = 5\n",
      "\n",
      "5 x 2 = 10\n",
      "\n",
      "5 x 3 = 15\n",
      "\n",
      "5 x 4 = 20\n",
      "\n",
      "5 x 5 = 25\n",
      "\n",
      "5 x 6 = 30\n",
      "\n",
      "5 x 7 = 35\n",
      "\n",
      "5 x 8 = 40\n",
      "\n",
      "5 x 9 = 45\n",
      "\n",
      "5 x 10 = 50\n",
      "\n",
      "Table de 6 est : \n",
      "\n",
      "6 x 1 = 6\n",
      "\n",
      "6 x 2 = 12\n",
      "\n",
      "6 x 3 = 18\n",
      "\n",
      "6 x 4 = 24\n",
      "\n",
      "6 x 5 = 30\n",
      "\n",
      "6 x 6 = 36\n",
      "\n",
      "6 x 7 = 42\n",
      "\n",
      "6 x 8 = 48\n",
      "\n",
      "6 x 9 = 54\n",
      "\n",
      "6 x 10 = 60\n",
      "\n",
      "Table de 7 est : \n",
      "\n",
      "7 x 1 = 7\n",
      "\n",
      "7 x 2 = 14\n",
      "\n",
      "7 x 3 = 21\n",
      "\n",
      "7 x 4 = 28\n",
      "\n",
      "7 x 5 = 35\n",
      "\n",
      "7 x 6 = 42\n",
      "\n",
      "7 x 7 = 49\n",
      "\n",
      "7 x 8 = 56\n",
      "\n",
      "7 x 9 = 63\n",
      "\n",
      "7 x 10 = 70\n",
      "\n",
      "Table de 8 est : \n",
      "\n",
      "8 x 1 = 8\n",
      "\n",
      "8 x 2 = 16\n",
      "\n",
      "8 x 3 = 24\n",
      "\n",
      "8 x 4 = 32\n",
      "\n",
      "8 x 5 = 40\n",
      "\n",
      "8 x 6 = 48\n",
      "\n",
      "8 x 7 = 56\n",
      "\n",
      "8 x 8 = 64\n",
      "\n",
      "8 x 9 = 72\n",
      "\n",
      "8 x 10 = 80\n",
      "\n",
      "Table de 9 est : \n",
      "\n",
      "9 x 1 = 9\n",
      "\n",
      "9 x 2 = 18\n",
      "\n",
      "9 x 3 = 27\n",
      "\n",
      "9 x 4 = 36\n",
      "\n",
      "9 x 5 = 45\n",
      "\n",
      "9 x 6 = 54\n",
      "\n",
      "9 x 7 = 63\n",
      "\n",
      "9 x 8 = 72\n",
      "\n",
      "9 x 9 = 81\n",
      "\n",
      "9 x 10 = 90\n",
      "\n",
      "Table de 10 est : \n",
      "\n",
      "10 x 1 = 10\n",
      "\n",
      "10 x 2 = 20\n",
      "\n",
      "10 x 3 = 30\n",
      "\n",
      "10 x 4 = 40\n",
      "\n",
      "10 x 5 = 50\n",
      "\n",
      "10 x 6 = 60\n",
      "\n",
      "10 x 7 = 70\n",
      "\n",
      "10 x 8 = 80\n",
      "\n",
      "10 x 9 = 90\n",
      "\n",
      "10 x 10 = 100\n"
     ]
    }
   ],
   "source": [
    "print(\"Bonjour et bienvenue \\nDonnez moi votre nombre entier et je vous donne la table de multiplication\"\n",
    "      \"de 1 à ce nombre !!!\\n\")\n",
    "\n",
    "nbre = input(\"Saisir un nombre : \")\n",
    "\n",
    "if nbre.isdecimal():\n",
    "    for i in range (1, (int(nbre)+1)):\n",
    "        \n",
    "        print(f\"\\nTable de {i} est : \")\n",
    "        for j in range (1, 11):\n",
    "            print(f\"\\n{i} x {j} = {i*j}\")\n",
    "        \n",
    "else:\n",
    "    print(f\"\\nVotre saisie : '{nbre}' n'est pas un nombre entier\")\n",
    "    "
   ]
  },
  {
   "cell_type": "markdown",
   "id": "23cf1fb4",
   "metadata": {},
   "source": []
  },
  {
   "cell_type": "markdown",
   "id": "9b6ab92d",
   "metadata": {},
   "source": [
    "### Exercice 6 : Trouver le Plus Grand Nombre\n",
    "\n",
    "\n",
    "#### • Objectif : Apprendre à travailler avec les listes.\n",
    "#### • Tâche : Écrire un programme qui demande à l'utilisateur de saisir cinq nombres et affiche le plus grand d'entre eux.\n",
    "#### • Compétences : Listes, boucles, conditions."
   ]
  },
  {
   "cell_type": "code",
   "execution_count": 62,
   "id": "db650cb6",
   "metadata": {},
   "outputs": [
    {
     "name": "stdout",
     "output_type": "stream",
     "text": [
      "Bonjour et bienvenue \n",
      "Donnez moi 5 nombres entiers et je vous donne le plus grand\n",
      "Saisir 1er nombre entier : 2\n",
      "Saisir 2ème nombre entier : e\n",
      "\n",
      "Votre 2ème saisie : 'e' n'est pas un nombre entier\n",
      "Saisir 3ème nombre entier : 3\n",
      "Saisir 4ème nombre entier : 100\n",
      "Saisir 5ème nombre entier : 0\n",
      "\n",
      "Votre 4ème saisie : '100' est le grand nombre entier que vous avez saisi\n"
     ]
    }
   ],
   "source": [
    "# Sans liste\n",
    "\n",
    "print(\"Bonjour et bienvenue \\nDonnez moi 5 nombres entiers et je vous donne le plus grand\")\n",
    "\n",
    "nbre = input(\"Saisir 1er nombre entier : \")\n",
    "j = 1\n",
    "\n",
    "if nbre.isdigit():\n",
    "    \n",
    "    for i in range (1, 5):\n",
    "        nbre1 = input(f\"Saisir {i+1}ème nombre entier : \")\n",
    "        \n",
    "        if nbre1.isdigit():\n",
    "            if int(nbre) < int(nbre1):\n",
    "                nbre = nbre1\n",
    "                j = i+1\n",
    "        \n",
    "        else:\n",
    "            print(f\"\\nVotre {i+1}ème saisie : '{nbre1}' n'est pas un nombre entier\")  \n",
    "            \n",
    "            \n",
    "    if j==1:\n",
    "        print(f\"\\nVotre {j}er saisie '{nbre}' est le grand nombre entier que vous avez saisi\")\n",
    "    else:\n",
    "        print(f\"\\nVotre {j}ème saisie : '{nbre}' est le grand nombre entier que vous avez saisi\")\n",
    "        \n",
    "else:\n",
    "    print(f\"\\nVotre 1ère saisie : '{nbre}' n'est pas un nombre entier\")\n",
    "    "
   ]
  },
  {
   "cell_type": "code",
   "execution_count": 64,
   "id": "dc2c53b8",
   "metadata": {},
   "outputs": [
    {
     "name": "stdout",
     "output_type": "stream",
     "text": [
      "Entrez un nombre : 1\n",
      "Entrez un nombre : 1\n",
      "Entrez un nombre : 2\n",
      "Entrez un nombre : 3\n",
      "Entrez un nombre : 3\n",
      "Le plus grand nombre est 3.\n"
     ]
    }
   ],
   "source": [
    "# Avec liste\n",
    "nombres = []\n",
    "for _ in range(5):\n",
    "    nombre = int(input(\"Entrez un nombre : \"))\n",
    "    nombres.append(nombre)\n",
    "print(f\"Le plus grand nombre est {max(nombres)}.\")\n"
   ]
  },
  {
   "cell_type": "markdown",
   "id": "f33a73e7",
   "metadata": {},
   "source": []
  },
  {
   "cell_type": "markdown",
   "id": "6a370ba3",
   "metadata": {},
   "source": [
    "### Exercice 7 : Compter les Voyelles\n",
    "\n",
    "\n",
    "#### • Objectif : Travailler avec les chaînes de caractères.\n",
    "#### • Tâche : Écrire un programme qui demande à l'utilisateur de saisir une phrase et compte le nombre de voyelles (a, e, i, o, u) dans la phrase.\n",
    "#### • Compétences : Boucles, conditions, manipulation de chaînes."
   ]
  },
  {
   "cell_type": "code",
   "execution_count": 71,
   "id": "98f6136d",
   "metadata": {},
   "outputs": [
    {
     "name": "stdout",
     "output_type": "stream",
     "text": [
      "Entrez une phrase : ecvzrz\n",
      "Le nombre de voyelles dans la phrase est 1.\n"
     ]
    }
   ],
   "source": [
    "#forme contractée\n",
    "\n",
    "phrase = input(\"Entrez une phrase : \")\n",
    "voyelles = \"aeiou\"\n",
    "compteur = sum(1 for char in phrase.lower() if char in voyelles)\n",
    "print(f\"Le nombre de voyelles dans la phrase est {compteur}.\")"
   ]
  },
  {
   "cell_type": "code",
   "execution_count": 70,
   "id": "2bcdc4cd",
   "metadata": {},
   "outputs": [
    {
     "name": "stdout",
     "output_type": "stream",
     "text": [
      "Bonjour et bienvenue \n",
      "Donnez moi votre phrase et je vous donne le nombre de voyelle !!!\n",
      "\n",
      "Saisir une phrase : rted\n",
      "\n",
      "Le nombres de voyelle est : 1\n",
      "\n",
      "Le nombres de d'autre caractère est : 3\n"
     ]
    }
   ],
   "source": [
    "#forme décontractée\n",
    "\n",
    "print(\"Bonjour et bienvenue \\nDonnez moi votre phrase et je vous donne le nombre de voyelle !!!\\n\")\n",
    "\n",
    "phrase = input(\"Saisir une phrase : \")\n",
    "somme = 0\n",
    "voyelles = \"aeiouy\"\n",
    "\n",
    "for i in phrase.lower():\n",
    "    if i in voyelles:\n",
    "        somme+=1\n",
    "print(f\"\\nLe nombres de voyelle est : {somme}\")\n",
    "print(f\"\\nLe nombres de d'autre caractère est : {len(phrase)-somme}\")"
   ]
  },
  {
   "cell_type": "markdown",
   "id": "5b5e6138",
   "metadata": {},
   "source": []
  },
  {
   "cell_type": "markdown",
   "id": "f93255fd",
   "metadata": {},
   "source": [
    "### Exercice 8 : Inverser une Chaîne\n",
    "\n",
    "\n",
    "#### • Objectif : Manipuler les chaînes de caractères.\n",
    "#### • Tâche :  Écrire un programme qui demande à l'utilisateur de saisir une chaîne et affiche cette chaîne inversée.\n",
    "#### • Compétences : Slicing de chaînes."
   ]
  },
  {
   "cell_type": "code",
   "execution_count": 72,
   "id": "c395f0b8",
   "metadata": {},
   "outputs": [
    {
     "name": "stdout",
     "output_type": "stream",
     "text": [
      "Entrez une chaîne : effectivement\n",
      "La chaîne inversée est : tnemevitceffe\n"
     ]
    }
   ],
   "source": [
    "chaine = input(\"Entrez une chaîne : \")\n",
    "inversee = chaine[::-1]\n",
    "print(f\"La chaîne inversée est : {inversee}\")"
   ]
  },
  {
   "cell_type": "markdown",
   "id": "807379af",
   "metadata": {},
   "source": []
  },
  {
   "cell_type": "markdown",
   "id": "fecf84de",
   "metadata": {},
   "source": [
    "### Exercice 9 : Palindrome\n",
    "\n",
    "\n",
    "#### • Objectif : Combiner les compétences en manipulation de chaînes et en conditions.\n",
    "#### • Tâche :  Écrire un programme qui demande à l'utilisateur de saisir un mot et vérifie s'il s'agit d'un palindrome (un mot qui se lit de la même façon à l'endroit et à l'envers).\n",
    "#### • Compétences : Manipulation de chaînes, conditions."
   ]
  },
  {
   "cell_type": "code",
   "execution_count": 73,
   "id": "4a0827b3",
   "metadata": {
    "scrolled": true
   },
   "outputs": [
    {
     "name": "stdout",
     "output_type": "stream",
     "text": [
      "Entrez un mot : erttre\n",
      "Le mot est un palindrome.\n"
     ]
    }
   ],
   "source": [
    "mot = input(\"Entrez un mot : \")\n",
    "if mot == mot[::-1]:\n",
    "    print(\"Le mot est un palindrome.\")\n",
    "else:\n",
    "    print(\"Le mot n'est pas un palindrome.\")"
   ]
  },
  {
   "cell_type": "markdown",
   "id": "bc63b196",
   "metadata": {},
   "source": []
  },
  {
   "cell_type": "markdown",
   "id": "1a0aa118",
   "metadata": {},
   "source": [
    "### Exercice 10 : Factorielle\n",
    "\n",
    "\n",
    "#### • Objectif : Apprendre à utiliser la récursivité.\n",
    "#### • Tâche :  Écrire un programme qui demande à l'utilisateur de saisir un nombre nnn et calcule la factorielle de nnn.\n",
    "#### • Compétences : Récursivité, fonctions."
   ]
  },
  {
   "cell_type": "code",
   "execution_count": 81,
   "id": "c5aeb238",
   "metadata": {},
   "outputs": [
    {
     "name": "stdout",
     "output_type": "stream",
     "text": [
      "Bonjour et bienvenue \n",
      "Donnez moi votre nombre entier et je vous sa factorielle !!!\n",
      "\n",
      "Saisir un nombre entier : 4\n",
      "\n",
      "La factoriel de 4 est : 24\n"
     ]
    }
   ],
   "source": [
    "# Sans les fonctions \n",
    "\n",
    "print(\"Bonjour et bienvenue \\nDonnez moi votre nombre entier et je vous sa factorielle !!!\\n\")\n",
    "\n",
    "nbre = input(\"Saisir un nombre entier : \")\n",
    "facto = 1\n",
    "if nbre.isdecimal():\n",
    "    for i in range (1, (int(nbre)+1)):\n",
    "        facto *=i\n",
    "    print(f\"\\nLa factoriel de {nbre} est : {facto}\")\n",
    "        \n",
    "else:\n",
    "    print(f\"\\nVotre saisie : '{nbre}' n'est pas un nombre entier\")"
   ]
  },
  {
   "cell_type": "code",
   "execution_count": 82,
   "id": "04b44759",
   "metadata": {},
   "outputs": [
    {
     "name": "stdout",
     "output_type": "stream",
     "text": [
      "Entrez un nombre : 4\n",
      "La factorielle de 4 est 24.\n"
     ]
    }
   ],
   "source": [
    "# Avec les fonctions\n",
    "\n",
    "def factorielle(n):\n",
    "    if n == 0:\n",
    "        return 1\n",
    "    return n * factorielle(n - 1)\n",
    "\n",
    "nombre = int(input(\"Entrez un nombre : \"))\n",
    "print(f\"La factorielle de {nombre} est {factorielle(nombre)}.\")"
   ]
  },
  {
   "cell_type": "code",
   "execution_count": null,
   "id": "65b00fb7",
   "metadata": {},
   "outputs": [],
   "source": []
  }
 ],
 "metadata": {
  "kernelspec": {
   "display_name": "Python 3 (ipykernel)",
   "language": "python",
   "name": "python3"
  },
  "language_info": {
   "codemirror_mode": {
    "name": "ipython",
    "version": 3
   },
   "file_extension": ".py",
   "mimetype": "text/x-python",
   "name": "python",
   "nbconvert_exporter": "python",
   "pygments_lexer": "ipython3",
   "version": "3.10.8"
  }
 },
 "nbformat": 4,
 "nbformat_minor": 5
}
