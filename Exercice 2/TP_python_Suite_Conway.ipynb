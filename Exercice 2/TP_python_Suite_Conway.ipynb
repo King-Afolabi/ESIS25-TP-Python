{
 "cells": [
  {
   "cell_type": "markdown",
   "id": "600cd33a",
   "metadata": {},
   "source": [
    "## Devoir python\n",
    "\n",
    "### 2_1_TP_python_Suite_Conway.pdf"
   ]
  },
  {
   "cell_type": "markdown",
   "id": "b948f138",
   "metadata": {},
   "source": [
    "### Exercice 1\n",
    "\n",
    "#### • 1a Créer une variable chaine qui stocke la valeur suivante \"Il fait beau aujourd'hui. Je veux en profiter. \"\n",
    "#### • 1b Remplacer les points par des (!) On doit donc avoir à la fin de l’exécution : \"Il fait beau aujourd'hui ! Je veux en profiter ! \"\n",
    "#### • 1c Mettre toute la chaine en minuscule\n",
    "#### • 1d Mettre toute la chaine en Majuscule\n",
    "#### • 1e Quel est l’indice du caractère ‘b’"
   ]
  },
  {
   "cell_type": "code",
   "execution_count": 1,
   "id": "1dc23e35",
   "metadata": {},
   "outputs": [
    {
     "name": "stdout",
     "output_type": "stream",
     "text": [
      "Il fait beau aujourd'hui! Je veux en profiter! \n",
      "il fait beau aujourd'hui! je veux en profiter! \n",
      "IL FAIT BEAU AUJOURD'HUI! JE VEUX EN PROFITER! \n",
      "8\n"
     ]
    }
   ],
   "source": [
    "# Exercice 1\n",
    "# 1a. Créer une variable chaine\n",
    "chaine = \"Il fait beau aujourd'hui. Je veux en profiter. \"\n",
    "\n",
    "# 1b. Remplacer les points par des (!)\n",
    "chaine = chaine.replace('.', '!')\n",
    "print(chaine)  # \"Il fait beau aujourd'hui ! Je veux en profiter !\"\n",
    "\n",
    "# 1c. Mettre toute la chaine en minuscule\n",
    "print(chaine.lower())\n",
    "\n",
    "# 1d. Mettre toute la chaine en Majuscule\n",
    "print(chaine.upper())\n",
    "\n",
    "# 1e. Quel est l’indice du caractère 'b'\n",
    "print(chaine.index('b'))"
   ]
  },
  {
   "cell_type": "markdown",
   "id": "22780c41",
   "metadata": {},
   "source": []
  },
  {
   "cell_type": "markdown",
   "id": "3339db20",
   "metadata": {},
   "source": [
    "### Exercice 2\n",
    "\n",
    "• Écrire une fonction premierMot(chaine) qui renvoie le premier mot d’une chaîne de caractère. \n",
    "Par exemple si ma chaîne est «samedi soir, je vais au cinéma», on renverra «samedi»."
   ]
  },
  {
   "cell_type": "code",
   "execution_count": 2,
   "id": "faf9c400",
   "metadata": {},
   "outputs": [
    {
     "name": "stdout",
     "output_type": "stream",
     "text": [
      "samedi\n"
     ]
    }
   ],
   "source": [
    "# Fonction qui renvoie le premier mot d'une chaîne\n",
    "\n",
    "def premierMot(chaine):\n",
    "    return chaine.split()[0]\n",
    "\n",
    "# Exemple\n",
    "print(premierMot(\"samedi soir, je vais au cinéma\"))  # \"samedi\""
   ]
  },
  {
   "cell_type": "markdown",
   "id": "a63dac60",
   "metadata": {},
   "source": []
  },
  {
   "cell_type": "markdown",
   "id": "b990cadb",
   "metadata": {},
   "source": [
    "### Exercice 3\n",
    "\n",
    "• Écrire une fonction majuscule_mot qui met en majuscules la première lettre de chaque mot\n",
    "d’une chaîne de caractères. Par exemple, «je mange du fromage» donnera «Je Mange Du\n",
    "Fromage» (on suppose que chaque mot est séparé par un espace et qu’il n’y a pas de\n",
    "symboles de ponctuation)."
   ]
  },
  {
   "cell_type": "code",
   "execution_count": 3,
   "id": "d91c2bf2",
   "metadata": {},
   "outputs": [
    {
     "name": "stdout",
     "output_type": "stream",
     "text": [
      "Je Mange Du Fromage\n"
     ]
    }
   ],
   "source": [
    "# Fonction pour mettre en majuscule la première lettre de chaque mot\n",
    "\n",
    "def majuscule_mot(chaine):\n",
    "    return ' '.join(mot.capitalize() for mot in chaine.split())\n",
    "\n",
    "# Exemple\n",
    "print(majuscule_mot(\"je mange du fromage\"))  # \"Je Mange Du Fromage\"\n"
   ]
  },
  {
   "cell_type": "markdown",
   "id": "81ae61c5",
   "metadata": {},
   "source": []
  },
  {
   "cell_type": "markdown",
   "id": "ce2d69f9",
   "metadata": {},
   "source": [
    "### Exercice 4\n",
    "•Ecrire un programme qui permet de retourne une phrase. Par exemple si la phrase est « J’en\n",
    "suis tout retourné », cela devra afficher « retourner tout suis J’en »."
   ]
  },
  {
   "cell_type": "code",
   "execution_count": 4,
   "id": "ad58c6dc",
   "metadata": {},
   "outputs": [
    {
     "name": "stdout",
     "output_type": "stream",
     "text": [
      "retourné tout suis J’en\n"
     ]
    }
   ],
   "source": [
    "# Programme pour retourner une phrase\n",
    "\n",
    "def retourner_phrase(phrase):\n",
    "    return ' '.join(phrase.split()[::-1])\n",
    "\n",
    "# Exemple\n",
    "print(retourner_phrase(\"J’en suis tout retourné\"))  # \"retourné tout suis J’en\"\n"
   ]
  },
  {
   "cell_type": "markdown",
   "id": "6199b3df",
   "metadata": {},
   "source": []
  },
  {
   "cell_type": "markdown",
   "id": "ed460f1f",
   "metadata": {},
   "source": [
    "### Exercice 5 Une suite sans nom\n",
    "\n",
    "u0 = 1.\n",
    "u1 = 11 car dans u0 il y a un 1.\n",
    "u2 = 21 car dans u1 il y a deux 1.\n",
    "u3 = 1211 car dans u2 il y a un 2 et un 1.\n",
    "u4 = 111221 car dans u3 il y a un 1, un 2, deux 1.\n",
    "u5 = 312211 car dans u4 il y a trois 1, deux 2, un 1. Etc...\n",
    "Écrire un script qui affiche les 20 premiers termes de la suite. On pourra écrire une fonction\n",
    "image(mot) qui prend en argument une chaîne de caractères constituée seulement de\n",
    "chiffres parmi 0, 1, 2, 3, 4, 5, 6, 7, 8, 9 et qui renvoie une chaîne de caractère fabriquée\n",
    "selon le procédé ci-dessous. Par exemple, image(’1’) renverra ’11’, image(’111221’) renverra\n",
    "’312211’. Plus généralement image(’22255788’) renverra ’32251728’ car il y a trois 2, deux\n",
    "5, un 7 et deux 8. On rappelle que l’instruction str(7) convertit l’entier 7 en la chaîne de\n",
    "caractère ’7’, et réciproquement, l’instruction int(’245’) convertit la chaîne ’245’ en l’entier\n",
    "245.x"
   ]
  },
  {
   "cell_type": "code",
   "execution_count": 5,
   "id": "b3a72fe8",
   "metadata": {
    "collapsed": true
   },
   "outputs": [
    {
     "name": "stdout",
     "output_type": "stream",
     "text": [
      "1\n",
      "11\n",
      "21\n",
      "1211\n",
      "111221\n",
      "312211\n",
      "13112221\n",
      "1113213211\n",
      "31131211131221\n",
      "13211311123113112211\n",
      "11131221133112132113212221\n",
      "3113112221232112111312211312113211\n",
      "1321132132111213122112311311222113111221131221\n",
      "11131221131211131231121113112221121321132132211331222113112211\n",
      "311311222113111231131112132112311321322112111312211312111322212311322113212221\n",
      "132113213221133112132113311211131221121321131211132221123113112221131112311332111213211322211312113211\n",
      "11131221131211132221232112111312212321123113112221121113122113111231133221121321132132211331121321231231121113122113322113111221131221\n",
      "31131122211311123113321112131221123113112211121312211213211321322112311311222113311213212322211211131221131211132221232112111312111213111213211231131122212322211331222113112211\n",
      "1321132132211331121321231231121113112221121321132122311211131122211211131221131211132221121321132132212321121113121112133221123113112221131112311332111213122112311311123112111331121113122112132113213211121332212311322113212221\n",
      "11131221131211132221232112111312111213111213211231132132211211131221131211221321123113213221123113112221131112311332211211131221131211132211121312211231131112311211232221121321132132211331121321231231121113112221121321133112132112312321123113112221121113122113121113123112112322111213211322211312113211\n"
     ]
    }
   ],
   "source": [
    "# Générer les 20 premiers termes de la suite\n",
    "\n",
    "def image(mot):\n",
    "    resultat = \"\"\n",
    "    i = 0\n",
    "    while i < len(mot):\n",
    "        count = 1\n",
    "        while i + 1 < len(mot) and mot[i] == mot[i + 1]:\n",
    "            count += 1\n",
    "            i += 1\n",
    "        resultat += str(count) + mot[i]\n",
    "        i += 1\n",
    "    return resultat\n",
    "\n",
    "# Générer les 20 termes\n",
    "u = \"1\"\n",
    "print(u)\n",
    "for _ in range(19):\n",
    "    u = image(u)\n",
    "    print(u)"
   ]
  },
  {
   "cell_type": "code",
   "execution_count": null,
   "id": "057507f4",
   "metadata": {},
   "outputs": [],
   "source": []
  },
  {
   "cell_type": "markdown",
   "id": "eff19e4c",
   "metadata": {},
   "source": []
  },
  {
   "cell_type": "code",
   "execution_count": null,
   "id": "56ede657",
   "metadata": {},
   "outputs": [],
   "source": []
  },
  {
   "cell_type": "code",
   "execution_count": null,
   "id": "b110a528",
   "metadata": {},
   "outputs": [],
   "source": []
  },
  {
   "cell_type": "code",
   "execution_count": null,
   "id": "cd2e889d",
   "metadata": {},
   "outputs": [],
   "source": []
  },
  {
   "cell_type": "code",
   "execution_count": null,
   "id": "be6447ad",
   "metadata": {},
   "outputs": [],
   "source": []
  }
 ],
 "metadata": {
  "kernelspec": {
   "display_name": "Python 3 (ipykernel)",
   "language": "python",
   "name": "python3"
  },
  "language_info": {
   "codemirror_mode": {
    "name": "ipython",
    "version": 3
   },
   "file_extension": ".py",
   "mimetype": "text/x-python",
   "name": "python",
   "nbconvert_exporter": "python",
   "pygments_lexer": "ipython3",
   "version": "3.10.8"
  }
 },
 "nbformat": 4,
 "nbformat_minor": 5
}
